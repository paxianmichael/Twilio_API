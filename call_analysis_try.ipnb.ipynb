{
 "cells": [
  {
   "cell_type": "code",
   "execution_count": 4,
   "metadata": {},
   "outputs": [
    {
     "name": "stdout",
     "output_type": "stream",
     "text": [
      "Collecting twilio\n",
      "  Using cached twilio-8.10.2-py2.py3-none-any.whl (1.8 MB)\n",
      "Requirement already satisfied: PyJWT<3.0.0,>=2.0.0 in c:\\users\\michaelchen\\anaconda3\\lib\\site-packages (from twilio) (2.4.0)\n",
      "Requirement already satisfied: aiohttp>=3.8.4 in c:\\users\\michaelchen\\anaconda3\\lib\\site-packages (from twilio) (3.8.4)\n",
      "Requirement already satisfied: requests>=2.0.0 in c:\\users\\michaelchen\\anaconda3\\lib\\site-packages (from twilio) (2.28.1)\n",
      "Collecting aiohttp-retry>=2.8.3\n",
      "  Using cached aiohttp_retry-2.8.3-py3-none-any.whl (9.8 kB)\n",
      "Requirement already satisfied: multidict<7.0,>=4.5 in c:\\users\\michaelchen\\anaconda3\\lib\\site-packages (from aiohttp>=3.8.4->twilio) (6.0.4)\n",
      "Requirement already satisfied: frozenlist>=1.1.1 in c:\\users\\michaelchen\\anaconda3\\lib\\site-packages (from aiohttp>=3.8.4->twilio) (1.3.3)\n",
      "Requirement already satisfied: typing-extensions>=3.7.4 in c:\\users\\michaelchen\\anaconda3\\lib\\site-packages (from aiohttp>=3.8.4->twilio) (4.5.0)\n",
      "Requirement already satisfied: attrs>=17.3.0 in c:\\users\\michaelchen\\anaconda3\\lib\\site-packages (from aiohttp>=3.8.4->twilio) (21.4.0)\n",
      "Requirement already satisfied: yarl<2.0,>=1.0 in c:\\users\\michaelchen\\anaconda3\\lib\\site-packages (from aiohttp>=3.8.4->twilio) (1.9.2)\n",
      "Requirement already satisfied: aiosignal>=1.1.2 in c:\\users\\michaelchen\\anaconda3\\lib\\site-packages (from aiohttp>=3.8.4->twilio) (1.3.1)\n",
      "Requirement already satisfied: asynctest==0.13.0 in c:\\users\\michaelchen\\anaconda3\\lib\\site-packages (from aiohttp>=3.8.4->twilio) (0.13.0)\n",
      "Requirement already satisfied: async-timeout<5.0,>=4.0.0a3 in c:\\users\\michaelchen\\anaconda3\\lib\\site-packages (from aiohttp>=3.8.4->twilio) (4.0.2)\n",
      "Requirement already satisfied: charset-normalizer<4.0,>=2.0 in c:\\users\\michaelchen\\anaconda3\\lib\\site-packages (from aiohttp>=3.8.4->twilio) (2.0.4)\n",
      "Requirement already satisfied: idna<4,>=2.5 in c:\\users\\michaelchen\\anaconda3\\lib\\site-packages (from requests>=2.0.0->twilio) (3.3)\n",
      "Requirement already satisfied: certifi>=2017.4.17 in c:\\users\\michaelchen\\anaconda3\\lib\\site-packages (from requests>=2.0.0->twilio) (2022.9.14)\n",
      "Requirement already satisfied: urllib3<1.27,>=1.21.1 in c:\\users\\michaelchen\\anaconda3\\lib\\site-packages (from requests>=2.0.0->twilio) (1.26.11)\n",
      "Installing collected packages: aiohttp-retry, twilio\n",
      "Successfully installed aiohttp-retry-2.8.3 twilio-8.10.2\n"
     ]
    }
   ],
   "source": [
    "!pip install twilio --upgrade"
   ]
  },
  {
   "cell_type": "code",
   "execution_count": 5,
   "metadata": {},
   "outputs": [],
   "source": [
    "import os\n",
    "from twilio.rest import Client\n"
   ]
  },
  {
   "cell_type": "code",
   "execution_count": 14,
   "metadata": {},
   "outputs": [],
   "source": [
    "#sending phone calls\n",
    "\n",
    "account_sid = \"ACe430753426e3224abf10763350b26d03\"\n",
    "auth_token = \"99718662f959c271da98800dea562d39\"\n",
    "\n",
    "client = Client(account_sid,auth_token)\n",
    "\n",
    "call = client.calls.create(\n",
    "                        url='http://demo.twilio.com/docs/voice.xml',\n",
    "                        to='+15133284324',\n",
    "                        from_='+18333664840'\n",
    "                    )\n",
    "\n"
   ]
  }
 ],
 "metadata": {
  "kernelspec": {
   "display_name": "Python 3",
   "language": "python",
   "name": "python3"
  },
  "language_info": {
   "codemirror_mode": {
    "name": "ipython",
    "version": 3
   },
   "file_extension": ".py",
   "mimetype": "text/x-python",
   "name": "python",
   "nbconvert_exporter": "python",
   "pygments_lexer": "ipython3",
   "version": "3.7.13"
  },
  "orig_nbformat": 4
 },
 "nbformat": 4,
 "nbformat_minor": 2
}
